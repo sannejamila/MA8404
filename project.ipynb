{
 "cells": [
  {
   "cell_type": "markdown",
   "metadata": {},
   "source": [
    "# Project MA8404\n"
   ]
  },
  {
   "cell_type": "markdown",
   "metadata": {},
   "source": [
    "# The vanishing gradient problem and Residual Neural Networks\n",
    "\n",
    "A residual neural network is a convolutional neural network that avoids the \"vanishing gradient\" problem. This is a problem that occurs when the gradients of the loss function with respect to the networks paramater becomes extremely small as they backpropagate through the layers of the network in the training process. This is a problem as when they are too small, it is difficult for the network to updates its  weights efficiently. This results in a slow learning. The opposite problem of exploding gradients can also occure and lead to unstable training. \n",
    "\n",
    "The vanishing gradient problem often arrises when dealing with the hyperbolic tangent as the activation function, which is the one I am analyzing in my project. \n",
    "\n",
    "When you stack multiple layers in a deep neural network, and each layer applies the activation function, the gradients can diminish exponentially as they are propagated backward through the layers, making it challenging to update the weights of the earlier layers effectively.\n",
    "\n",
    "A solution to this problem is using the residual neural networks. \n",
    "\n"
   ]
  },
  {
   "cell_type": "markdown",
   "metadata": {},
   "source": [
    "\n",
    "Residual Neural Networks (ResNets) avoids the vanishing gradient problem by the use of skip connections or residual connections, which allow gradients to flow more easily through the network.\n",
    " \n",
    "In a standard feedforward neural network, each layer takes the output of the previous layer as its input. However, in a ResNet, each layer takes the output of the previous layer and adds it to its own output. The skip connection adds the original input $H(x)$ to the transformed output $F(x)$, creating a residual mapping.\n",
    "\n",
    "$$y = F(x) + H(x)$$"
   ]
  },
  {
   "cell_type": "markdown",
   "metadata": {},
   "source": [
    "# Neural Ordinary Differential Equations\n",
    "\n",
    " Neural ODEs are a different approach to designing neural networks. Instead of specifying a fixed number of discrete layers, Neural ODEs define the dynamics of the network continuously using ordinary differential equations. The continuous-time transformation is learned by the network, and the forward pass can be seen as solving an ODE initial value problem. Neural ODEs can capture continuous-time behavior and have the potential to model complex, long-term dependencies in data.\n",
    "\n",
    " The connection between ResNets and neural ODEs lies in the fact that Neural ODEs can be used to model the transformation within each layer of a ResNet. In other words, you can view a ResNet as a discrete approximation of a Neural ODE. By doing this, you can leverage the continuous-time modeling capabilities of Neural ODEs while still benefiting from the skip connections that ResNets introduce to address the vanishing gradient problem. So, in a sense, you can use Neural ODEs to provide a continuous-time interpretation or extension of ResNets.\n",
    "\n",
    "Neural ODEs are particularly well-suited for modeling continuous-time processes and capturing long-term dependencies in data. They have the potential to be more expressive for tasks where the underlying dynamics are continuous and complex. Neural ODEs may provide more interpretable insights into the underlying continuous dynamics of the data, making them valuable for certain scientific and domain-specific applications."
   ]
  },
  {
   "cell_type": "code",
   "execution_count": 33,
   "metadata": {},
   "outputs": [],
   "source": [
    "import torch\n",
    "import torch.nn as nn\n",
    "import torchvision\n",
    "import torchvision.transforms as transforms\n",
    "from torchdiffeq import odeint\n",
    "import matplotlib.pyplot as plt\n",
    "import time \n",
    "import random"
   ]
  },
  {
   "cell_type": "markdown",
   "metadata": {},
   "source": [
    "# The data \n",
    "\n"
   ]
  },
  {
   "cell_type": "markdown",
   "metadata": {},
   "source": [
    "The MNIST dataset consists of images of handwritten digits, and each image is associated with a labe, the digit it represents. \n"
   ]
  },
  {
   "cell_type": "markdown",
   "metadata": {},
   "source": [
    "We first need to preprocess the data in order to be put into the machine learning model. \n",
    "\n",
    "We first transform the data by resizing it to smaller $8x8$ pixels. We want to do this in order to reduce the computational cost of training the model. We also want to make sure all our data points have the same sizes, as our model expects a certain input shape.\n",
    "\n",
    "We also want to convert the images to a Pytorch Tensor objects, which is the standard for deep learning models.\n",
    "\n",
    "The last step creates the dataloader, which groups the training data into batches and shuffles the data.\n",
    "\n",
    "We want to group the data as training a deep learning model on the entire dataset at once is usually computationally expensive. We rather want to process a more manageable amount of data at one time. Splitting the data into batch sizes also takes use of parallellism, resulting in a shorter training time. \n",
    "\n",
    "By shuffling the data we avoid overfitting to the training data. This is especially important if the data has a fixed order, for example ordered by class. This might cause the model to perform well on only certain classes, but badly on other. Introducing randomness to the training process might also help the model converge faster. "
   ]
  },
  {
   "cell_type": "code",
   "execution_count": 34,
   "metadata": {},
   "outputs": [],
   "source": [
    "# Resizing and converting to tensor object\n",
    "transform = transforms.Compose([transforms.Resize(8), transforms.ToTensor()])\n",
    "\n",
    "#Loading the training MNIST dataset\n",
    "mnist_train = torchvision.datasets.MNIST(root='./data', train=True, transform=transform, download=True)\n",
    "\n",
    "#Grouping into batch sizes of 64 + shuffle the data\n",
    "dataloader = torch.utils.data.DataLoader(mnist_train, batch_size=64, shuffle=True)\n"
   ]
  },
  {
   "cell_type": "markdown",
   "metadata": {},
   "source": [
    "We now want to look at the data in order to see how a sample might look like."
   ]
  },
  {
   "cell_type": "code",
   "execution_count": 35,
   "metadata": {},
   "outputs": [
    {
     "data": {
      "image/png": "[encoded data removed]",
      "text/plain": [
       "<Figure size 1000x300 with 4 Axes>"
      ]
     },
     "metadata": {},
     "output_type": "display_data"
    }
   ],
   "source": [
    "data, labels = next(iter(dataloader))\n",
    "\n",
    "# Plot the data samples\n",
    "fig, axs = plt.subplots(1, 4, figsize=(10, 3))\n",
    "\n",
    "for i in range(4):\n",
    "    axs[i].imshow(data[i].squeeze(), cmap='gray')\n",
    "    axs[i].set_title(f\"Label: {labels[i]}\")\n",
    "\n",
    "plt.show()"
   ]
  },
  {
   "cell_type": "markdown",
   "metadata": {},
   "source": [
    "# The model"
   ]
  },
  {
   "cell_type": "markdown",
   "metadata": {},
   "source": [
    "Our model will consist of two main components, the Neural ODE and the Classifier. "
   ]
  },
  {
   "cell_type": "markdown",
   "metadata": {},
   "source": [
    "# The Neural ODE"
   ]
  },
  {
   "cell_type": "markdown",
   "metadata": {},
   "source": [
    "This component takes the input data (images) and processes it using a continuous-time Neural ODE. The Neural ODE function (NeuralODEFunc) applies transformations to the input data over time, and the Neural ODE layer (NeuralODE) integrates these transformations to produce an output. The continuous-time behavior allows the model to capture complex dynamics in the data."
   ]
  },
  {
   "cell_type": "markdown",
   "metadata": {},
   "source": [
    "In this implementation, we have the following Neural ODE\n",
    "\n",
    "$$\\frac{dy}{dt} = \\sigma(Wy +b)$$\n",
    "\n",
    "Where $\\sigma(z) = \\tanh(z)$."
   ]
  },
  {
   "cell_type": "markdown",
   "metadata": {},
   "source": [
    "The $\\sigma(z)$ represents the dynamics of the system, where $W$ is the weights and $b$ the biases of a neural network. \n",
    "\n",
    "The Neural ODE involves learning the function $\\sigma(z)$ using a neural network, and during training, the neural network's parameters $W$ and $b$ are adjusted to fit the observed data and approximate the true dynamics of the system."
   ]
  },
  {
   "cell_type": "markdown",
   "metadata": {},
   "source": [
    "The $\\sigma(z)$ function is called the \"Activation Function\". This is what makes the neural network be able to learn complex patterns. Without activation functions, the neural network would behave like a linear model, making it limited in its capacity to represent these complex patterns."
   ]
  },
  {
   "cell_type": "markdown",
   "metadata": {},
   "source": [
    "# Why $\\sigma(z) = \\tanh(z)$?\n",
    "\n",
    "The hyperbolic tangent (tanh) activation function can be a good choice for classification tasks, including those on the MNIST dataset, for several reasons.\n",
    "\n",
    "tanh is zero-centered. This means that the mean of the output is close to zero when the inputs are centered around zero. This can be advantageous for optimization during training because it helps prevent issues like vanishing gradients, which can occur when using other activation functions, such as ReLU. Zero-centered activations tend to make optimization easier and faster.\n",
    "\n",
    "Tanh is a smooth, continuous function, which makes it differentiable everywhere. The smoothness of tanh allows for more stable and predictable gradients during training.\n",
    "\n",
    "Tanh is a non-linear activation function, which is essential for enabling neural networks to learn complex, non-linear relationships in data. "
   ]
  },
  {
   "cell_type": "code",
   "execution_count": 36,
   "metadata": {},
   "outputs": [],
   "source": [
    "# Define the Neural ODE function\n",
    "class NeuralODEFunc(nn.Module):\n",
    "    def __init__(self, input_dim, hidden_dim):\n",
    "        super(NeuralODEFunc, self).__init__()\n",
    "        self.input_dim = input_dim\n",
    "        self.hidden_dim = hidden_dim\n",
    "        self.fc = nn.Linear(input_dim, hidden_dim)\n",
    "\n",
    "    def forward(self, t, y):\n",
    "        dydt = torch.tanh(self.fc(y))\n",
    "        return dydt\n"
   ]
  },
  {
   "cell_type": "markdown",
   "metadata": {},
   "source": [
    "The code defines a Python class named NeuralODEFunc that inherits from nn.Module. In PyTorch, nn.Module is the base class for all neural network modules. This class will encapsulate the neural network operations."
   ]
  },
  {
   "cell_type": "code",
   "execution_count": 37,
   "metadata": {},
   "outputs": [],
   "source": [
    "# Define the Neural ODE model\n",
    "\n",
    "class NeuralODE(nn.Module):\n",
    "    def __init__(self, func, timesteps, method):\n",
    "        super(NeuralODE, self).__init__()\n",
    "        self.func = func\n",
    "        self.timesteps = timesteps\n",
    "        self.method = method\n",
    "\n",
    "    def forward(self, y0):\n",
    "        t = torch.linspace(0, 1, self.timesteps)\n",
    "        y = odeint(self.func, y0, t, method=self.method)\n",
    "        return y[-1]"
   ]
  },
  {
   "cell_type": "markdown",
   "metadata": {},
   "source": [
    "The ODEint function solves the ODE using a specified method. This could be any of the following methods\n",
    "\n",
    "{\"dopri8\", \"dopri5\", \"bosh3\", \"fehlberg2\", \"adaptive_heun\", \"euler\", \"midpoint\", \"rk4\", \"explicit_adams\", \"implicit_adams\", \"fixed_adams\", \"scipy_solver\"}\n",
    "\n",
    "The method returns the final state of the system, which is the state at the last time point. This represents the solution of the ODE at the end of the specified time interval."
   ]
  },
  {
   "cell_type": "markdown",
   "metadata": {},
   "source": [
    "# The Classifier"
   ]
  },
  {
   "cell_type": "markdown",
   "metadata": {},
   "source": [
    " This code defines a basic classifier neural network with a single linear layer. It takes input features and produces class scores as the output. "
   ]
  },
  {
   "cell_type": "code",
   "execution_count": 38,
   "metadata": {},
   "outputs": [],
   "source": [
    "class Classifier(nn.Module):\n",
    "    def __init__(self, feature_dim, num_classes):\n",
    "        super(Classifier, self).__init__()\n",
    "        self.fc = nn.Linear(feature_dim, num_classes)\n",
    "\n",
    "    def forward(self, x):\n",
    "        return self.fc(x)"
   ]
  },
  {
   "cell_type": "code",
   "execution_count": 39,
   "metadata": {},
   "outputs": [],
   "source": [
    "# Create the model\n",
    "methods = [\"dopri8\", \"dopri5\", \"bosh3\", \"fehlberg2\", \"adaptive_heun\", \n",
    "           \"euler\", \"midpoint\", \"rk4\", \"explicit_adams\", \"implicit_adams\", \"fixed_adams\", \"scipy_solver\"]\n",
    "\n",
    "\n",
    "input_dim = 64\n",
    "hidden_dim = 64\n",
    "num_classes = 10\n",
    "\n",
    "ode_func = NeuralODEFunc(input_dim, hidden_dim)\n",
    "model = nn.Sequential(NeuralODE(ode_func, timesteps=10, method = \"euler\"), Classifier(hidden_dim, num_classes))\n",
    "optimizer = torch.optim.Adam(model.parameters(), lr=0.001)\n",
    "\n"
   ]
  },
  {
   "cell_type": "code",
   "execution_count": 40,
   "metadata": {},
   "outputs": [],
   "source": [
    "def CreateAndTrain(epochs=25,timestep=10,method = \"euler\"):\n",
    "\n",
    "    input_dim = 64\n",
    "    hidden_dim = 64\n",
    "    num_classes = 10\n",
    "\n",
    "    ode_func = NeuralODEFunc(input_dim, hidden_dim)\n",
    "    model = nn.Sequential(NeuralODE(ode_func, timesteps=timestep, method=method), Classifier(hidden_dim, num_classes))\n",
    "    optimizer = torch.optim.Adam(model.parameters(), lr=0.001)\n",
    "\n",
    "\n",
    "    # Training loop\n",
    "    for epoch in range(epochs):\n",
    "        for data, labels in dataloader:\n",
    "            optimizer.zero_grad()\n",
    "            data = data.view(data.size(0), -1)\n",
    "            outputs = model(data)\n",
    "            loss = nn.CrossEntropyLoss()(outputs, labels)\n",
    "            loss.backward()\n",
    "            optimizer.step()\n",
    "    \n",
    "    return model"
   ]
  },
  {
   "cell_type": "code",
   "execution_count": 41,
   "metadata": {},
   "outputs": [],
   "source": [
    "start_time = time.time()\n",
    "euler_model = CreateAndTrain(epochs=25,timestep=10,method = \"euler\")\n",
    "end_time = time.time()\n",
    "euler_time = end_time - start_time\n",
    "\n",
    "start_time = time.time()\n",
    "midpoint_model = CreateAndTrain(epochs=25,timestep=10,method = \"midpoint\")\n",
    "end_time = time.time()\n",
    "midpoint_time = end_time - start_time\n",
    "\n",
    "start_time = time.time()\n",
    "rk4_model = CreateAndTrain(epochs=25,timestep=10,method = \"rk4\")\n",
    "end_time = time.time()\n",
    "rk4_time = end_time - start_time\n",
    "\n",
    "start_time = time.time()\n",
    "dopri5_model = CreateAndTrain(epochs=25,timestep=10,method = \"dopri5\")\n",
    "end_time = time.time()\n",
    "dopri5_time = end_time - start_time\n",
    "\n"
   ]
  },
  {
   "cell_type": "code",
   "execution_count": 49,
   "metadata": {},
   "outputs": [
    {
     "name": "stdout",
     "output_type": "stream",
     "text": [
      "Training time of different methods\n",
      "Forward Euler: 2.0309139013290407 minutes\n",
      "Mid Point: 2.382993698120117 minutes\n",
      "RK4 : 3.583484121163686 minutes\n",
      "Dopri5 : 24.154168164730073 minutes\n"
     ]
    }
   ],
   "source": [
    "print(\"Training time of different methods\")\n",
    "print(\"Forward Euler: \" + str(euler_time/60) + \" minutes\")\n",
    "print(\"Mid Point: \" + str(midpoint_time/60)+ \" minutes\")\n",
    "print(\"RK4 : \" + str(rk4_time/60)+ \" minutes\")\n",
    "print(\"Dopri5 : \" + str(dopri5_time/60)+ \" minutes\")"
   ]
  },
  {
   "cell_type": "code",
   "execution_count": 43,
   "metadata": {},
   "outputs": [],
   "source": [
    "def save_model(model):\n",
    "\n",
    "    # Save the model\n",
    "    torch.save(model.state_dict(), 'mnist_model.pth')\n",
    "\n",
    "    # Load the model\n",
    "    model.load_state_dict(torch.load('mnist_model.pth'))\n"
   ]
  },
  {
   "cell_type": "markdown",
   "metadata": {},
   "source": [
    "# The testing"
   ]
  },
  {
   "cell_type": "code",
   "execution_count": 44,
   "metadata": {},
   "outputs": [],
   "source": [
    "transform = transforms.Compose([transforms.Resize(8), transforms.ToTensor()])\n",
    "\n",
    "mnist_test = torchvision.datasets.MNIST(root='./data', train=False, transform=transform, download=True)\n",
    "\n",
    "test_dataloader = torch.utils.data.DataLoader(mnist_test, batch_size=64, shuffle=False)\n"
   ]
  },
  {
   "cell_type": "code",
   "execution_count": 45,
   "metadata": {},
   "outputs": [],
   "source": [
    "def predict(model):\n",
    "    correct = 0\n",
    "    total = 0\n",
    "\n",
    "    # Set the model to evaluation mode\n",
    "    model.eval()\n",
    "\n",
    "    with torch.no_grad():\n",
    "        for data, labels in test_dataloader:\n",
    "            data = data.view(data.size(0), -1)\n",
    "            outputs = model(data)\n",
    "            _, predicted = torch.max(outputs, 1)\n",
    "            total += labels.size(0)\n",
    "            correct += (predicted == labels).sum().item()\n",
    "\n",
    "    accuracy = 100 * correct / total\n",
    "\n",
    "    return accuracy"
   ]
  },
  {
   "cell_type": "code",
   "execution_count": 46,
   "metadata": {},
   "outputs": [
    {
     "name": "stdout",
     "output_type": "stream",
     "text": [
      "Euler method accuracy on the test set: 96.43%\n",
      "Midpoint method accuracy on the test set: 96.47%\n",
      "RK4 method accuracy on the test set: 96.26%\n",
      "Dopri5 method accuracy on the test set: 96.53%\n"
     ]
    }
   ],
   "source": [
    "euler_accuracy = predict(euler_model)\n",
    "midpoint_accuracy = predict(midpoint_model)\n",
    "rk4_accuracy = predict(rk4_model)\n",
    "dopri5_accuracy = predict(dopri5_model)\n",
    "\n",
    "print(f\"Euler method accuracy on the test set: {euler_accuracy:.2f}%\")\n",
    "print(f\"Midpoint method accuracy on the test set: {midpoint_accuracy:.2f}%\")\n",
    "print(f\"RK4 method accuracy on the test set: {rk4_accuracy:.2f}%\")\n",
    "print(f\"Dopri5 method accuracy on the test set: {dopri5_accuracy:.2f}%\")"
   ]
  },
  {
   "cell_type": "code",
   "execution_count": 47,
   "metadata": {},
   "outputs": [
    {
     "data": {
      "image/png": "[encoded data removed]",
      "text/plain": [
       "<Figure size 640x480 with 1 Axes>"
      ]
     },
     "metadata": {},
     "output_type": "display_data"
    }
   ],
   "source": [
    "model = rk4_model\n",
    "model.eval()\n",
    "\n",
    "# Select a random sample from the test dataset\n",
    "\n",
    "sample_idx = random.randint(0, len(test_dataloader.dataset) - 1)\n",
    "sample_data, sample_label = test_dataloader.dataset[sample_idx]\n",
    "\n",
    "with torch.no_grad():\n",
    "    sample_data = sample_data.view(1, -1)  # Reshape the data for a single sample\n",
    "    output = model(sample_data)\n",
    "    predicted_label = torch.argmax(output)\n",
    "\n",
    "# Convert the data tensor to a NumPy array\n",
    "sample_data = sample_data.view(8, 8).numpy()  # Reshape the data to its original shape\n",
    "\n",
    "# Convert the labels to Python integers (not necessary for 'sample_label')\n",
    "sample_label = int(sample_label)\n",
    "predicted_label = int(predicted_label)\n",
    "\n",
    "# Plot the image and the predicted label\n",
    "plt.figure()\n",
    "plt.imshow(sample_data, cmap='gray')\n",
    "plt.title(f\"True Label: {sample_label}, Predicted Label: {predicted_label}\")\n",
    "plt.show()\n"
   ]
  }
 ],
 "metadata": {
  "kernelspec": {
   "display_name": "Python 3",
   "language": "python",
   "name": "python3"
  },
  "language_info": {
   "codemirror_mode": {
    "name": "ipython",
    "version": 3
   },
   "file_extension": ".py",
   "mimetype": "text/x-python",
   "name": "python",
   "nbconvert_exporter": "python",
   "pygments_lexer": "ipython3",
   "version": "3.10.10"
  },
  "orig_nbformat": 4
 },
 "nbformat": 4,
 "nbformat_minor": 2
}
