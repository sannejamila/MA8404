{
 "cells": [
  {
   "cell_type": "markdown",
   "metadata": {},
   "source": [
    "# Project MA8404\n"
   ]
  },
  {
   "attachments": {},
   "cell_type": "markdown",
   "metadata": {},
   "source": [
    "# The vanishing gradient problem \n",
    "\n",
    "A residual neural network is a convolutional neural network designed to avoid the \"vanishing gradient\" problem. This problem occurs when the gradients of the loss function become extremely small as they backpropagate through the layers during the training process. When the gradients are too small, it becomes difficult for the network to update its weights efficiently, resulting in slow learning. The opposite problem, exploding gradients, can also occur and lead to unstable training.\n",
    "\n",
    "The vanishing gradient problem often arises when using the hyperbolic tangent as the activation function, which is the one I am using in this project. When you stack multiple layers in a deep neural network, and each layer applies the activation function, the gradients can diminish exponentially as they propagate backward through the layers. This makes it challenging to update the weights of the earlier layers effectively. A solution to this problem is making use of residual neural networks.\n",
    "\n"
   ]
  },
  {
   "attachments": {},
   "cell_type": "markdown",
   "metadata": {},
   "source": [
    "# Residual Neural Networks \n",
    "\n",
    "Residual Neural Networks (ResNets) avoid the vanishing gradient problem through the use of skip connections, or residual connections, which allow gradients to flow more easily through the network. In a standard feedforward neural network, each layer takes the output of the previous layer as its input. However, in a ResNet, each layer takes the output of the previous layer and adds it to its own output. The skip connection adds the original input \n",
    "$H(x)$ to the transformed output $F(x)$, creating a residual mapping.\n",
    "\n",
    "$$y = F(x) + H(x)$$"
   ]
  },
  {
   "attachments": {},
   "cell_type": "markdown",
   "metadata": {},
   "source": [
    "# Neural Ordinary Differential Equations\n",
    "\n",
    "Neural ODEs are a different approach to designing neural networks. Instead of specifying a fixed number of discrete layers, Neural ODEs define the dynamics of the network continuously using ordinary differential equations. The continuous-time transformation is learned by the network, and the forward pass can be seen as solving an initial value problem. Neural ODEs can capture continuous-time behavior and have the potential to model complex, long-term dependencies in data. The connection between ResNets and Neural ODEs lies in the fact that Neural ODEs can be used to model the transformation within each layer of a ResNet. In other words, you can view a ResNet as a discrete approximation of a Neural ODE. By doing this, you can capture the continuous-time modeling capabilities of Neural ODEs while still benefiting from the skip connections that ResNets introduce to address the vanishing gradient problem. Thus, Neural ODEs can provide a continuous-time interpretation or extension of ResNets. Neural ODEs are particularly well-suited for modeling continuous-time processes and capturing long-term dependencies in data. They have the potential to be more expressive for tasks where the underlying dynamics are continuous and complex. Neural ODEs may provide more interpretable insights into the underlying continuous dynamics of the data, making them valuable for certain scientific and domain-specific applications."
   ]
  },
  {
   "cell_type": "code",
   "execution_count": 1,
   "metadata": {},
   "outputs": [],
   "source": [
    "import torch\n",
    "import torch.nn as nn\n",
    "import torchvision\n",
    "import torchvision.transforms as transforms\n",
    "from torchdiffeq import odeint\n",
    "import matplotlib.pyplot as plt\n",
    "import time \n",
    "import random"
   ]
  },
  {
   "cell_type": "markdown",
   "metadata": {},
   "source": [
    "# The data \n",
    "\n"
   ]
  },
  {
   "attachments": {},
   "cell_type": "markdown",
   "metadata": {},
   "source": [
    "The MNIST dataset consists of images of handwritten digits, and each image is associated with a label, the digit it represents.\n",
    "\n",
    "We first need to preprocess the data before putting it into the machine learning model. We begin by resizing the images to smaller 8×8 pixels. This is done to reduce the computational cost of training the model. We also ensure that all our data points have the same size, as our model expects a specific input shape.\n",
    "\n",
    "Next, we convert the images to PyTorch Tensor objects, which is the standard format for deep learning models. The final step involves creating a dataloader, which groups the training data into batches and shuffles the data.\n",
    "\n",
    "Grouping the data is essential because training a deep learning model on the entire dataset at once is usually computationally expensive. Instead, we process a more manageable amount of data at one time. Splitting the data into batches also takes advantage of parallelism, resulting in a shorter training time.\n",
    "\n",
    "By shuffling the data, we avoid overfitting to the training data. This is especially important if the data has a fixed order, for example, if it is ordered by class. Such ordering might cause the model to perform well on certain classes but poorly on others. Introducing randomness to the training process can also help the model converge faster."
   ]
  },
  {
   "cell_type": "code",
   "execution_count": 2,
   "metadata": {},
   "outputs": [],
   "source": [
    "# Resizing and converting to tensor object\n",
    "transform = transforms.Compose([transforms.Resize(8), transforms.ToTensor()])\n",
    "\n",
    "#Loading the training MNIST dataset\n",
    "mnist_train = torchvision.datasets.MNIST(root='./data', train=True, transform=transform, download=True)\n",
    "\n",
    "#Grouping into batch sizes of 64 + shuffle the data\n",
    "dataloader = torch.utils.data.DataLoader(mnist_train, batch_size=64, shuffle=True)\n"
   ]
  },
  {
   "cell_type": "markdown",
   "metadata": {},
   "source": [
    "We now want to look at the data in order to see how a sample might look like."
   ]
  },
  {
   "cell_type": "code",
   "execution_count": 3,
   "metadata": {},
   "outputs": [
    {
     "data": {
      "image/png": "[encoded data removed]",
      "text/plain": [
       "<Figure size 1000x300 with 4 Axes>"
      ]
     },
     "metadata": {},
     "output_type": "display_data"
    }
   ],
   "source": [
    "data, labels = next(iter(dataloader))\n",
    "\n",
    "# Plot the data samples\n",
    "fig, axs = plt.subplots(1, 4, figsize=(10, 3))\n",
    "\n",
    "for i in range(4):\n",
    "    axs[i].imshow(data[i].squeeze(), cmap='gray')\n",
    "    axs[i].set_title(f\"Label: {labels[i]}\")\n",
    "\n",
    "plt.show()"
   ]
  },
  {
   "cell_type": "markdown",
   "metadata": {},
   "source": [
    "# The model"
   ]
  },
  {
   "cell_type": "markdown",
   "metadata": {},
   "source": [
    "Our model will consist of two main components, the Neural ODE and the Classifier. "
   ]
  },
  {
   "cell_type": "markdown",
   "metadata": {},
   "source": [
    "# The Neural ODE"
   ]
  },
  {
   "attachments": {},
   "cell_type": "markdown",
   "metadata": {},
   "source": [
    "This component takes the input data (images) and processes it using a continuous-time Neural ODE. The Neural ODE function (NeuralODEFunc) applies transformations to the input data over time, and the Neural ODE layer (NeuralODE) integrates these transformations to produce an output. The continuous-time behavior allows the model to capture complex dynamics in the data."
   ]
  },
  {
   "cell_type": "markdown",
   "metadata": {},
   "source": [
    "In this implementation, we have the following Neural ODE\n",
    "\n",
    "$$\\frac{dy}{dt} = \\sigma(Wy +b)$$\n",
    "\n",
    "Where $\\sigma(z) = \\tanh(z)$."
   ]
  },
  {
   "attachments": {},
   "cell_type": "markdown",
   "metadata": {},
   "source": [
    "The $\\sigma(z)$ represents the dynamics of the system, where $W$ is the weights and $b$ the biases of a neural network. \n",
    "\n",
    "The Neural ODE involves learning the function $\\sigma(z)$ using a neural network, and during training, the neural network's parameters $W$ and $b$ are adjusted to fit the observed data and approximate the true dynamics of the system.\n",
    "\n",
    "The $\\sigma(z)$ function is called the \"Activation Function\". This is what makes the neural network be able to learn complex patterns. Without activation functions, the neural network would behave like a linear model, making it limited in its capacity to represent these complex patterns."
   ]
  },
  {
   "attachments": {},
   "cell_type": "markdown",
   "metadata": {},
   "source": [
    "# Why $\\sigma(z) = \\tanh(z)$?\n",
    "\n",
    "The hyperbolic tangent ($\\tan h$) activation function can be a good choice for classification tasks, including those on the MNIST dataset, for several reasons.\n",
    "\n",
    "$\\tan h$ is zero-centered. This means that the mean of the output is close to zero when the inputs are centered around zero. This can be advantageous for optimization during training because it helps prevent issues like vanishing gradients, which can occur when using other activation functions, such as ReLU. Zero-centered activations tend to make optimization easier and faster.\n",
    "\n",
    "$\\tan h$ is a smooth, continuous function, which makes it differentiable everywhere. The smoothness of tanh allows for more stable and predictable gradients during training.\n",
    "\n",
    "$\\tan h$ is a non-linear activation function, which is essential for enabling neural networks to learn complex, non-linear relationships in data."
   ]
  },
  {
   "cell_type": "code",
   "execution_count": 4,
   "metadata": {},
   "outputs": [],
   "source": [
    "# Define the Neural ODE function\n",
    "class NeuralODEFunc(nn.Module):\n",
    "    def __init__(self, input_dim, hidden_dim):\n",
    "        super(NeuralODEFunc, self).__init__()\n",
    "        self.input_dim = input_dim\n",
    "        self.hidden_dim = hidden_dim\n",
    "        self.fc = nn.Linear(input_dim, hidden_dim)\n",
    "\n",
    "    def forward(self, t, y):\n",
    "        dydt = torch.tanh(self.fc(y))\n",
    "        return dydt\n"
   ]
  },
  {
   "cell_type": "markdown",
   "metadata": {},
   "source": [
    "The code defines a Python class named NeuralODEFunc that inherits from nn.Module. In PyTorch, nn.Module is the base class for all neural network modules. This class will encapsulate the neural network operations."
   ]
  },
  {
   "cell_type": "code",
   "execution_count": 5,
   "metadata": {},
   "outputs": [],
   "source": [
    "# Define the Neural ODE model\n",
    "\n",
    "class NeuralODE(nn.Module):\n",
    "    def __init__(self, func, timesteps, method):\n",
    "        super(NeuralODE, self).__init__()\n",
    "        self.func = func\n",
    "        self.timesteps = timesteps\n",
    "        self.method = method\n",
    "\n",
    "    def forward(self, y0):\n",
    "        t = torch.linspace(0, 1, self.timesteps)\n",
    "        y = odeint(self.func, y0, t, method=self.method)\n",
    "        return y[-1]"
   ]
  },
  {
   "cell_type": "markdown",
   "metadata": {},
   "source": [
    "The ODEint function solves the ODE using a specified method. This could be any of the following methods\n",
    "\n",
    "{\"dopri8\", \"dopri5\", \"bosh3\", \"fehlberg2\", \"adaptive_heun\", \"euler\", \"midpoint\", \"rk4\", \"explicit_adams\", \"implicit_adams\", \"fixed_adams\", \"scipy_solver\"}\n",
    "\n",
    "The method returns the final state of the system, which is the state at the last time point. This represents the solution of the ODE at the end of the specified time interval."
   ]
  },
  {
   "cell_type": "markdown",
   "metadata": {},
   "source": [
    "# The Classifier"
   ]
  },
  {
   "cell_type": "markdown",
   "metadata": {},
   "source": [
    " This code defines a basic classifier neural network with a single linear layer. It takes input features and produces class scores as the output. "
   ]
  },
  {
   "cell_type": "code",
   "execution_count": 6,
   "metadata": {},
   "outputs": [],
   "source": [
    "class Classifier(nn.Module):\n",
    "    def __init__(self, feature_dim, num_classes):\n",
    "        super(Classifier, self).__init__()\n",
    "        self.fc = nn.Linear(feature_dim, num_classes)\n",
    "\n",
    "    def forward(self, x):\n",
    "        return self.fc(x)"
   ]
  },
  {
   "cell_type": "code",
   "execution_count": 7,
   "metadata": {},
   "outputs": [],
   "source": [
    "# Create the model\n",
    "methods = [\"dopri8\", \"dopri5\", \"bosh3\", \"fehlberg2\", \"adaptive_heun\", \n",
    "           \"euler\", \"midpoint\", \"rk4\", \"explicit_adams\", \"implicit_adams\", \"fixed_adams\", \"scipy_solver\"]\n",
    "\n",
    "\n",
    "input_dim = 64\n",
    "hidden_dim = 64\n",
    "num_classes = 10\n",
    "\n",
    "ode_func = NeuralODEFunc(input_dim, hidden_dim)\n",
    "model = nn.Sequential(NeuralODE(ode_func, timesteps=10, method = \"euler\"), Classifier(hidden_dim, num_classes))\n",
    "optimizer = torch.optim.Adam(model.parameters(), lr=0.001)\n",
    "\n"
   ]
  },
  {
   "cell_type": "code",
   "execution_count": 8,
   "metadata": {},
   "outputs": [],
   "source": [
    "def CreateAndTrain(epochs=25,timestep=10,method = \"euler\"):\n",
    "\n",
    "    input_dim = 64\n",
    "    hidden_dim = 64\n",
    "    num_classes = 10\n",
    "\n",
    "    ode_func = NeuralODEFunc(input_dim, hidden_dim)\n",
    "    model = nn.Sequential(NeuralODE(ode_func, timesteps=timestep, method=method), Classifier(hidden_dim, num_classes))\n",
    "    optimizer = torch.optim.Adam(model.parameters(), lr=0.001)\n",
    "\n",
    "\n",
    "    # Training loop\n",
    "    for epoch in range(epochs):\n",
    "        for data, labels in dataloader:\n",
    "            optimizer.zero_grad()\n",
    "            data = data.view(data.size(0), -1)\n",
    "            outputs = model(data)\n",
    "            loss = nn.CrossEntropyLoss()(outputs, labels)\n",
    "            loss.backward()\n",
    "            optimizer.step()\n",
    "    \n",
    "    return model"
   ]
  },
  {
   "cell_type": "code",
   "execution_count": 9,
   "metadata": {},
   "outputs": [],
   "source": [
    "import torch.optim as optim\n",
    "\n",
    "\n",
    "def CreateAndTrain(epochs=25, timestep=10, method=\"euler\"):\n",
    "    input_dim = 64\n",
    "    hidden_dim = 64\n",
    "    num_classes = 10\n",
    "\n",
    "    ode_func = NeuralODEFunc(input_dim, hidden_dim)\n",
    "    model = nn.Sequential(NeuralODE(ode_func, timesteps=timestep, method=method), Classifier(hidden_dim, num_classes))\n",
    "    optimizer = optim.Adam(model.parameters(), lr=0.001)\n",
    "\n",
    "    # Lists to store the training loss\n",
    "    training_loss = []\n",
    "\n",
    "    # Training loop\n",
    "    for epoch in range(epochs):\n",
    "        epoch_loss = 0.0\n",
    "        for data, labels in dataloader:\n",
    "            optimizer.zero_grad()\n",
    "            data = data.view(data.size(0), -1)\n",
    "            outputs = model(data)\n",
    "            loss = nn.CrossEntropyLoss()(outputs, labels)\n",
    "            loss.backward()\n",
    "            optimizer.step()\n",
    "            epoch_loss += loss.item()\n",
    "        training_loss.append(epoch_loss / len(dataloader))\n",
    "\n",
    "    return model, training_loss\n",
    "\n"
   ]
  },
  {
   "cell_type": "code",
   "execution_count": 10,
   "metadata": {},
   "outputs": [],
   "source": [
    "start_time = time.time()\n",
    "euler_model, euler_loss = CreateAndTrain(epochs=25,timestep=10,method = \"euler\")\n",
    "end_time = time.time()\n",
    "euler_time = end_time - start_time\n",
    "\n",
    "\"\"\"\n",
    "start_time = time.time()\n",
    "explicit_adams_model, explicit_adams_loss = CreateAndTrain(epochs=25,timestep=10,method = \"explicit_adams\")\n",
    "end_time = time.time()\n",
    "explicit_adams_time = end_time - start_time\n",
    "\"\"\"\n",
    "start_time = time.time()\n",
    "rk4_model, rk4_loss = CreateAndTrain(epochs=25,timestep=10,method = \"rk4\")\n",
    "end_time = time.time()\n",
    "rk4_time = end_time - start_time\n",
    "\n",
    "start_time = time.time()\n",
    "dopri5_model, dopri5_loss = CreateAndTrain(epochs=25,timestep=10,method = \"dopri5\")\n",
    "end_time = time.time()\n",
    "dopri5_time = end_time - start_time\n"
   ]
  },
  {
   "cell_type": "code",
   "execution_count": 11,
   "metadata": {},
   "outputs": [
    {
     "name": "stdout",
     "output_type": "stream",
     "text": [
      "Training time of different methods\n",
      "Forward Euler: 1.4474597851435342 minutes\n",
      "RK4 : 2.5116148312886555 minutes\n",
      "Dopri5 : 18.34163083632787 minutes\n"
     ]
    }
   ],
   "source": [
    "print(\"Training time of different methods\")\n",
    "print(\"Forward Euler: \" + str(euler_time/60) + \" minutes\")\n",
    "#print(\"Explicit Adams: \" + str(explicit_adams_time/60)+ \" minutes\")\n",
    "print(\"RK4 : \" + str(rk4_time/60)+ \" minutes\")\n",
    "print(\"Dopri5 : \" + str(dopri5_time/60)+ \" minutes\")"
   ]
  },
  {
   "cell_type": "code",
   "execution_count": 12,
   "metadata": {},
   "outputs": [
    {
     "data": {
      "image/png": "[encoded data removed]",
      "text/plain": [
       "<Figure size 640x480 with 1 Axes>"
      ]
     },
     "metadata": {},
     "output_type": "display_data"
    }
   ],
   "source": [
    "plt.plot(range(1, len(euler_loss) + 1), euler_loss, label = \"Euler\")\n",
    "#plt.plot(range(1, len(explicit_adams_loss) + 1), explicit_adams_loss, label = \"ExAdams\")\n",
    "plt.plot(range(1, len(rk4_loss) + 1), rk4_loss, label = \"RK4\")\n",
    "plt.plot(range(1, len(dopri5_loss) + 1), dopri5_loss, label = \"DOPRi5\")\n",
    "plt.legend()\n",
    "plt.xlabel(\"Epoch\")\n",
    "plt.ylabel(\"Training Loss\")\n",
    "plt.title(\"Training Loss Over Epochs\")\n",
    "plt.show()"
   ]
  },
  {
   "cell_type": "code",
   "execution_count": 13,
   "metadata": {},
   "outputs": [
    {
     "name": "stdout",
     "output_type": "stream",
     "text": [
      "Euler Method Training Accuracy: 96.74%\n",
      "RK4 Method Training Accuracy: 96.95%\n",
      "DOPRI5 Training Accuracy: 96.62%\n"
     ]
    }
   ],
   "source": [
    "def CalculateTrainingAccuracy(model, dataloader):\n",
    "    model.eval()  # Set the model to evaluation mode\n",
    "    correct = 0\n",
    "    total = 0\n",
    "\n",
    "    with torch.no_grad():\n",
    "        for data, labels in dataloader:\n",
    "            data = data.view(data.size(0), -1)\n",
    "            outputs = model(data)\n",
    "            _, predicted = torch.max(outputs, 1)  # Get the class with the highest score\n",
    "            total += labels.size(0)\n",
    "            correct += (predicted == labels).sum().item()\n",
    "\n",
    "    accuracy = 100 * correct / total\n",
    "    return accuracy\n",
    "\n",
    "# After training your model with CreateAndTrain function\n",
    "# You can calculate the training accuracy like this\n",
    "euler_training_accuracy = CalculateTrainingAccuracy(euler_model, dataloader)\n",
    "#ex_adam_training_accuracy = CalculateTrainingAccuracy(explicit_adams_model, dataloader)\n",
    "RK4_training_accuracy = CalculateTrainingAccuracy(rk4_model, dataloader)\n",
    "dopri5_training_accuracy = CalculateTrainingAccuracy(dopri5_model, dataloader)\n",
    "\n",
    "print(f\"Euler Method Training Accuracy: {euler_training_accuracy:.2f}%\")\n",
    "#print(f\"Explicit Adams Training Accuracy: {ex_adam_training_accuracy:.2f}%\")\n",
    "print(f\"RK4 Method Training Accuracy: {RK4_training_accuracy:.2f}%\")\n",
    "print(f\"DOPRI5 Training Accuracy: {dopri5_training_accuracy:.2f}%\")"
   ]
  },
  {
   "cell_type": "markdown",
   "metadata": {},
   "source": [
    "We observe that Dopri5 has a significantly longer training time than the other methods. "
   ]
  },
  {
   "cell_type": "code",
   "execution_count": 14,
   "metadata": {},
   "outputs": [],
   "source": [
    "def save_model(model):\n",
    "\n",
    "    # Save the model\n",
    "    torch.save(model.state_dict(), 'mnist_model.pth')\n",
    "\n",
    "    # Load the model\n",
    "    model.load_state_dict(torch.load('mnist_model.pth'))\n"
   ]
  },
  {
   "cell_type": "markdown",
   "metadata": {},
   "source": [
    "# The testing"
   ]
  },
  {
   "cell_type": "code",
   "execution_count": 15,
   "metadata": {},
   "outputs": [],
   "source": [
    "transform = transforms.Compose([transforms.Resize(8), transforms.ToTensor()])\n",
    "\n",
    "mnist_test = torchvision.datasets.MNIST(root='./data', train=False, transform=transform, download=True)\n",
    "\n",
    "test_dataloader = torch.utils.data.DataLoader(mnist_test, batch_size=64, shuffle=False)\n"
   ]
  },
  {
   "cell_type": "code",
   "execution_count": 16,
   "metadata": {},
   "outputs": [],
   "source": [
    "def predict(model):\n",
    "    correct = 0\n",
    "    total = 0\n",
    "\n",
    "    # Set the model to evaluation mode\n",
    "    model.eval()\n",
    "\n",
    "    with torch.no_grad():\n",
    "        for data, labels in test_dataloader:\n",
    "            data = data.view(data.size(0), -1)\n",
    "            outputs = model(data)\n",
    "            _, predicted = torch.max(outputs, 1)\n",
    "            total += labels.size(0)\n",
    "            correct += (predicted == labels).sum().item()\n",
    "\n",
    "    accuracy = 100 * correct / total\n",
    "\n",
    "    return accuracy"
   ]
  },
  {
   "cell_type": "code",
   "execution_count": 17,
   "metadata": {},
   "outputs": [
    {
     "name": "stdout",
     "output_type": "stream",
     "text": [
      "Euler method accuracy on the test set: 96.42%\n",
      "RK4 method accuracy on the test set: 96.52%\n",
      "Dopri5 method accuracy on the test set: 96.22%\n"
     ]
    }
   ],
   "source": [
    "euler_accuracy = predict(euler_model)\n",
    "#midpoint_accuracy = predict(explicit_adams_model)\n",
    "rk4_accuracy = predict(rk4_model)\n",
    "dopri5_accuracy = predict(dopri5_model)\n",
    "\n",
    "print(f\"Euler method accuracy on the test set: {euler_accuracy:.2f}%\")\n",
    "#print(f\"Midpoint method accuracy on the test set: {midpoint_accuracy:.2f}%\")\n",
    "print(f\"RK4 method accuracy on the test set: {rk4_accuracy:.2f}%\")\n",
    "print(f\"Dopri5 method accuracy on the test set: {dopri5_accuracy:.2f}%\")"
   ]
  },
  {
   "cell_type": "markdown",
   "metadata": {},
   "source": [
    "Even though Dopri5 has an especially long training time, it does not seem as it leads to especially better accuracy than the other methods. "
   ]
  },
  {
   "cell_type": "code",
   "execution_count": 18,
   "metadata": {},
   "outputs": [
    {
     "data": {
      "image/png": "[encoded data removed]",
      "text/plain": [
       "<Figure size 640x480 with 1 Axes>"
      ]
     },
     "metadata": {},
     "output_type": "display_data"
    }
   ],
   "source": [
    "model = rk4_model\n",
    "model.eval()\n",
    "\n",
    "# Select a random sample from the test dataset\n",
    "\n",
    "sample_idx = random.randint(0, len(test_dataloader.dataset) - 1)\n",
    "sample_data, sample_label = test_dataloader.dataset[sample_idx]\n",
    "\n",
    "with torch.no_grad():\n",
    "    sample_data = sample_data.view(1, -1)  # Reshape the data for a single sample\n",
    "    output = model(sample_data)\n",
    "    predicted_label = torch.argmax(output)\n",
    "\n",
    "# Convert the data tensor to a NumPy array\n",
    "sample_data = sample_data.view(8, 8).numpy()  # Reshape the data to its original shape\n",
    "\n",
    "# Convert the labels to Python integers (not necessary for 'sample_label')\n",
    "sample_label = int(sample_label)\n",
    "predicted_label = int(predicted_label)\n",
    "\n",
    "# Plot the image and the predicted label\n",
    "plt.figure()\n",
    "plt.imshow(sample_data, cmap='gray')\n",
    "plt.title(f\"True Label: {sample_label}, Predicted Label: {predicted_label}\")\n",
    "plt.show()\n"
   ]
  },
  {
   "attachments": {},
   "cell_type": "markdown",
   "metadata": {},
   "source": [
    "# Conclusions\n",
    "\n",
    "Higher order Runge-Kutta methods resulted in significantly longer time but not a notable improvement in accuracy. However our data was rather simple and there remains to analyze results for more complex data. In the future it would be interesting to analyze performance on time dependent data. "
   ]
  }
 ],
 "metadata": {
  "kernelspec": {
   "display_name": "Python 3",
   "language": "python",
   "name": "python3"
  },
  "language_info": {
   "codemirror_mode": {
    "name": "ipython",
    "version": 3
   },
   "file_extension": ".py",
   "mimetype": "text/x-python",
   "name": "python",
   "nbconvert_exporter": "python",
   "pygments_lexer": "ipython3",
   "version": "3.10.10"
  },
  "orig_nbformat": 4,
  "vscode": {
   "interpreter": {
    "hash": "bd385fe162c5ca0c84973b7dd5c518456272446b2b64e67c2a69f949ca7a1754"
   }
  }
 },
 "nbformat": 4,
 "nbformat_minor": 2
}
